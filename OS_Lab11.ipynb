{
  "nbformat": 4,
  "nbformat_minor": 0,
  "metadata": {
    "colab": {
      "provenance": []
    },
    "kernelspec": {
      "name": "python3",
      "display_name": "Python 3"
    },
    "language_info": {
      "name": "python"
    }
  },
  "cells": [
    {
      "cell_type": "code",
      "execution_count": 13,
      "metadata": {
        "colab": {
          "base_uri": "https://localhost:8080/"
        },
        "id": "XRSCYS9WOeQi",
        "outputId": "5a48c84e-c16a-4899-fea8-69f50027a222"
      },
      "outputs": [
        {
          "output_type": "stream",
          "name": "stdout",
          "text": [
            "NAME    MAJ:MIN RM  SIZE RO TYPE MOUNTPOINTS\n",
            "loop0     7:0    0  110G  0 loop \n",
            "sda       8:0    0   48G  0 disk \n",
            "├─sda1    8:1    0 43.8G  0 part /etc/hosts\n",
            "│                                /etc/hostname\n",
            "│                                /etc/resolv.conf\n",
            "├─sda2    8:2    0   16M  0 part \n",
            "├─sda3    8:3    0    2G  0 part \n",
            "├─sda4    8:4    0   16M  0 part \n",
            "├─sda5    8:5    0    2G  0 part \n",
            "├─sda6    8:6    0  512B  0 part \n",
            "├─sda7    8:7    0  512B  0 part \n",
            "├─sda8    8:8    0   16M  0 part \n",
            "├─sda9    8:9    0  512B  0 part \n",
            "├─sda10   8:10   0  512B  0 part \n",
            "├─sda11   8:11   0    8M  0 part \n",
            "└─sda12   8:12   0   32M  0 part \n",
            "\n"
          ]
        }
      ],
      "source": [
        "#Example 1: List all storage devices on Ubuntu\n",
        "import subprocess\n",
        "\n",
        "def list_storage_devices():\n",
        "  command = \"lsblk\"\n",
        "  result = subprocess.run (command, shell=True, stdout=subprocess.PIPE, text=True)\n",
        "  print(result.stdout)\n",
        "\n",
        "list_storage_devices()"
      ]
    },
    {
      "cell_type": "code",
      "source": [
        "#Example 2: Check available disk space on a specific storage device\n",
        "import subprocess\n",
        "\n",
        "def check_disk_space (device):\n",
        "  command = f\"df -h {device}\"\n",
        "  result = subprocess.run (command, shell=True, stdout=subprocess.PIPE, text=True)\n",
        "  print(result.stdout)\n",
        "\n",
        "check_disk_space(\"/dev/sda1\")"
      ],
      "metadata": {
        "colab": {
          "base_uri": "https://localhost:8080/"
        },
        "id": "mF_orhTqUIc9",
        "outputId": "12f86ed5-3221-4968-f77f-9c55bb6670c8"
      },
      "execution_count": 16,
      "outputs": [
        {
          "output_type": "stream",
          "name": "stdout",
          "text": [
            "\n"
          ]
        }
      ]
    },
    {
      "cell_type": "code",
      "source": [
        "#Example 3: Mount a storage device\n",
        "\n",
        "import subprocess\n",
        "\n",
        "def mount_device(device, mount_point):\n",
        "  command = f\"sudo mount {device} {mount_point}\"\n",
        "  result = subprocess.run (command, shell=True, stdout=subprocess.PIPE, text=True)\n",
        "  print(result.stdout)\n",
        "\n",
        "mount_device(\"/dev/sdb1\", \"/mnt/mydisk\")"
      ],
      "metadata": {
        "colab": {
          "base_uri": "https://localhost:8080/"
        },
        "id": "Cg3x2cGFU8Up",
        "outputId": "7f248603-372b-4795-8540-36aa74097f11"
      },
      "execution_count": 17,
      "outputs": [
        {
          "output_type": "stream",
          "name": "stdout",
          "text": [
            "\n"
          ]
        }
      ]
    },
    {
      "cell_type": "code",
      "source": [
        "#Example 4: Format a storage device (WARNING: Data loss can occur)\n",
        "import subprocess\n",
        "\n",
        "def format_device (device, tilesystem type):\n",
        "  command = f\"sudo mkfs.{filesystem_type} {device}\"\n",
        "  result = subprocess.run(command, shell=True, stdout=subprocess.PIPE, text=True)\n",
        "  print(result.stdout)\n",
        "\n",
        "#Be cautious when using this function, as it will erase data on the device.\n",
        "#format device(\"/dev/sdc1\", \"ext4\")"
      ],
      "metadata": {
        "id": "EXtmzQ2zat9y"
      },
      "execution_count": null,
      "outputs": []
    },
    {
      "cell_type": "code",
      "source": [
        "#Example 5: Unmount a storage device import subprocess\n",
        "import subprocess\n",
        "\n",
        "def unmount_device (mount_point):\n",
        "  command = f\"sudo umount {mount_point}\"\n",
        "  result = subprocess.run (command, shell=True, stdout=subprocess.PIPE, text=True)\n",
        "  print(result.stdout)\n",
        "\n",
        "unmount_device(\"/mnt/mydisk\")"
      ],
      "metadata": {
        "id": "RKB1vx1ubFBM"
      },
      "execution_count": null,
      "outputs": []
    },
    {
      "cell_type": "code",
      "source": [
        "#Example 6: List mounted storage devices\n",
        "import subprocess\n",
        "\n",
        "def list_mounted_devices():\n",
        "    # Run the 'mount' command with grep to list mounted storage devices and store the result\n",
        "    command = \"mount | grep '/dev/sd'\"\n",
        "    result = subprocess.run(command, shell=True, stdout=subprocess.PIPE, text=True)\n",
        "    # Print the output of the command\n",
        "    print(result.stdout)\n",
        "\n",
        "\n"
      ],
      "metadata": {
        "id": "sGYRhZQWbpku"
      },
      "execution_count": null,
      "outputs": []
    },
    {
      "cell_type": "code",
      "source": [
        "#Example 7: Check disk usage of a directory\n",
        "import subprocess\n",
        "\n",
        "def check_directory_disk_usage(directory):\n",
        "    # Run the 'du' command to check disk usage of a directory and store the result\n",
        "    command = f\"du -sh {directory}\"\n",
        "    result = subprocess.run(command, shell=True, stdout=subprocess.PIPE, text=True)\n",
        "    # Print the output of the command\n",
        "    print(result.stdout)\n"
      ],
      "metadata": {
        "id": "CbYOh-J8c_m-"
      },
      "execution_count": null,
      "outputs": []
    },
    {
      "cell_type": "code",
      "source": [
        "#Example 8: Create a new directory\n",
        "import subprocess\n",
        "\n",
        "def create_directory(directory):\n",
        "    # Run the 'mkdir' command to create a new directory and store the result\n",
        "    command = f\"mkdir {directory}\"\n",
        "    result = subprocess.run(command, shell=True, stdout=subprocess.PIPE, text=True)\n",
        "    # Print the output of the command\n",
        "    print(result.stdout)\n"
      ],
      "metadata": {
        "id": "O5DRWbZEdBUo"
      },
      "execution_count": null,
      "outputs": []
    },
    {
      "cell_type": "code",
      "source": [
        "import subprocess\n",
        "\n",
        "# Example 9: Remove a directory (WARNING: Irreversible deletion)\n",
        "def remove_directory(directory):\n",
        "    # Run the 'rm' command to remove a directory (use with caution, irreversible) and store the result\n",
        "    command = f\"sudo rm -r {directory}\"\n",
        "    result = subprocess.run(command, shell=True, stdout=subprocess.PIPE, text=True)\n",
        "    # Print the output of the command\n",
        "    print(result.stdout)\n",
        "\n",
        "# Example 10: Get storage device information\n",
        "def get_device_info(device):\n",
        "    # Run the 'udevadm' command to get information about a device and store the result\n",
        "    command = f\"udevadm info -q property -n {device}\"\n",
        "    result = subprocess.run(command, shell=True, stdout=subprocess.PIPE, text=True)\n",
        "    # Print the output of the command\n",
        "    print(result. stdout)\n",
        "\n",
        "# Main test part (Usage of the functions)\n",
        "if __name__ == \"__main\":\n",
        "    # Test each function with appropriate parameters\n",
        "    list_storage_devices()\n",
        "    check_disk_space(\"/dev/sda1\")\n",
        "    mount_device(\"/dev/sdb1\", \"/mnt/mydisk\")\n",
        "\n",
        "    # Be cautious with the following line, as it erases data on the device\n",
        "    format_device(\"/dev/sdc1\", \"ext4\")\n",
        "\n",
        "    unmount_device(\"/mnt/mydisk\")\n",
        "    list_mounted_devices()\n",
        "    check_directory_disk_usage(\"/home/user/documents\")\n",
        "    create_directory(\"/tmp/new_directory\")\n",
        "\n",
        "    # Be cautious with the following line, as it's an irreversible deletion\n",
        "    #remove_directory(\"/tmp/new_directory\")\n",
        "    get_device_info(\"/dev/sda1\")\n"
      ],
      "metadata": {
        "id": "MLBZbWfbdz-L"
      },
      "execution_count": null,
      "outputs": []
    }
  ]
}