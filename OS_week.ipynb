{
  "nbformat": 4,
  "nbformat_minor": 0,
  "metadata": {
    "colab": {
      "provenance": []
    },
    "kernelspec": {
      "name": "python3",
      "display_name": "Python 3"
    },
    "language_info": {
      "name": "python"
    }
  },
  "cells": [
    {
      "cell_type": "code",
      "execution_count": 3,
      "metadata": {
        "id": "RHFLzRfTfd_T",
        "colab": {
          "base_uri": "https://localhost:8080/"
        },
        "outputId": "14a2f7e6-2324-4042-d3d1-be555463d51c"
      },
      "outputs": [
        {
          "output_type": "stream",
          "name": "stdout",
          "text": [
            "Overwriting learning_script.sh\n"
          ]
        }
      ],
      "source": [
        "%%writefile learning_script.sh\n",
        "\n",
        "#!/bin/bash\n",
        "\n",
        "check_success() {\n",
        "    if [ $? -ne 0 ];then\n",
        "        echo \"an error ocurred, Exiting...\"\n",
        "        exit 1\n",
        "    fi\n",
        "}\n",
        "\n",
        "install_package() {\n",
        "    echo \"checking for $1...\"\n",
        "    if ! dpkg -l | grep -q \"$1\"; then\n",
        "        echo \"installing $1...\"\n",
        "        sudo apt-get install -y $1\n",
        "        check_success\n",
        "    else\n",
        "        echo \"$1 is alreday installed\"\n",
        "    fi\n",
        "}\n",
        "\n",
        "echo \"welcome to the config management learning script!\"\n",
        "sleep2\n",
        "\n",
        "echo \"updating package list...\"\n",
        "sudo apt-get update\n",
        "check_success\n",
        "\n",
        "install_package apache2\n",
        "\n",
        "echo \"enabling and starting apache...\"\n",
        "sudo systemctl enable apache2\n",
        "sudo systemctl start apache2\n",
        "check_success\n",
        "\n",
        "echo \"creating a sample web page...\"\n",
        "echo \"<html><body><h1>Hello from $(hostname)</h1></body></html>\" | sudo tee /var/www/html/index.html\n",
        "check_success\n",
        "\n",
        "echo \"configuration complete. Visit http://$(hostname -I | awk '{print $1}') in your browser.\""
      ]
    }
  ]
}