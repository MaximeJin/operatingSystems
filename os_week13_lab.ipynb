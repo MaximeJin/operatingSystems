{
  "nbformat": 4,
  "nbformat_minor": 0,
  "metadata": {
    "colab": {
      "provenance": []
    },
    "kernelspec": {
      "name": "python3",
      "display_name": "Python 3"
    },
    "language_info": {
      "name": "python"
    }
  },
  "cells": [
    {
      "cell_type": "code",
      "execution_count": 3,
      "metadata": {
        "colab": {
          "base_uri": "https://localhost:8080/"
        },
        "id": "OqNpGnqMd3Jp",
        "outputId": "c67f6e3c-4f81-4595-bb98-7c71bf962572"
      },
      "outputs": [
        {
          "output_type": "stream",
          "name": "stdout",
          "text": [
            "Writing corn_guid_script.sh\n"
          ]
        }
      ],
      "source": [
        "%%writefile corn_guid_script.sh\n",
        "\n",
        "\n",
        "#!/bin/bash\n",
        "\n",
        "\n",
        "# Comprehensive Cron Guide for Ubuntu\n",
        "# Author: Prof. Mehdi Pirahandeh, ISE Department\n",
        "# This script provides a layered approach to understanding Cron on Ubuntu, suitable for all levels.\n",
        "\n",
        "echo \"Cron Guide for Ubuntu: From Basic to Advanced\"\n",
        "\n",
        "# Part 1: Basic Information\n",
        "# Cron is a time-based job scheduler in Unix-like operating systems, including Ubuntu.\n",
        "# It enables users to schedule jobs (commands or scripts) to run periodically at fixed times, dates, or intervals.\n",
        "echo \"---- Part 1: Basic Information ----\"\n",
        "echo \"Cron is used to schedule commands at a specific time. These scheduled commands are called 'Cron jobs'.\"\n",
        "echo \"Cron Jobs are defined in a 'crontab', which is a configuration file that specifies shell commands to run periodically on a given schedule.\"\n",
        "\n",
        "# Basic Example: Running a command every day at 5 PM\n",
        "echo \"Basic Example: To run a command every day at 5 PM, you would add the following line to your crontab:\"\n",
        "echo \"0 17 * * * /path/to/command\"\n",
        "\n",
        "# Part 2: Intermediate Information\n",
        "# Understanding Cron Syntax:\n",
        "# The syntax for a cron job is:\n",
        "# .---------------- minute (0 - 59)\n",
        "# | .------------- hour (0 - 23)\n",
        "# | | .---------- day of month (1 - 31)\n",
        "# | | | .------- month (1 - 12) OR jan,feb,mar,apr ...\n",
        "# | | | | .---- day of week (0 - 6) (Sunday=0 or 7) OR sun,mon,tue,wed,thu,fri,sat\n",
        "# | | | | |\n",
        "# * * * * * command to be executed\n",
        "echo \"---- Part 2: Intermediate Information ----\"\n",
        "echo \"Intermediate Example: To run a script at 3 AM every Monday, the crontab entry would be:\"\n",
        "echo \"0 3 * * 1 /path/to/script.sh\"\n",
        "\n",
        "# Intermediate Example: Editing Crontab\n",
        "echo \"To edit your crontab, you use the command 'crontab -e'. This opens your crontab file in the default text editor.\"\n",
        "\n",
        "# Part 3: Advanced Information\n",
        "# Advanced Cron Jobs involve setting up conditional execution, error logging, and complex scheduling.\n",
        "echo \"---- Part 3: Advanced Information ----\"\n",
        "echo \"Advanced Example 1: Conditional Execution\"\n",
        "echo \"0 5 * * * [ -f /path/to/check_file ] && /path/to/execute_if_file_exists\"\n",
        "\n",
        "echo \"Advanced Example 2: Error Logging\"\n",
        "echo \"30 22 * * * /path/to/daily_backup.sh > /var/log/backup.log 2>&1\"\n",
        "\n",
        "echo \"Advanced Example 3: Complex Scheduling\"\n",
        "echo \"0 20 * * 1-5 /path/to/workday_shutdown.sh # Runs at 8 PM on weekdays\"\n",
        "\n",
        "# Advanced Example: Special Characters\n",
        "echo \"Special characters like '*', '/', and ',' can be used for more complex time specifications.\"\n",
        "\n",
        "# Conclusion\n",
        "echo \"This script offers a tiered exploration of Cron, from basic to advanced use. To learn more, try editing your crontab and adding your own jobs.\"\n",
        "\n",
        "# End of script\n",
        "\n"
      ]
    },
    {
      "cell_type": "code",
      "source": [
        "%%writefile learning_cron_script.sh\n",
        "#!/bin/bash\n",
        "# Lab Session: Introduction to Cron Scheduling in Ubuntu\n",
        "# Author: Prof. Mehdi Pirahandeh, ISE Department\n",
        "# This script is a beginner's guide to understanding and using cron scheduling in Ubuntu.\n",
        "\n",
        "# Step 1: Check if Cron is installed\n",
        "# Cron usually comes pre-installed on Ubuntu, but we'll check to be sure.\n",
        "echo \"Checking if Cron is installed...\"\n",
        "if ! command -v cron &> /dev/null\n",
        "then\n",
        " echo \"Cron is not installed. Installing now...\"\n",
        " sudo apt-get update\n",
        " sudo apt-get install cron\n",
        "else\n",
        " echo \"Cron is already installed.\"\n",
        "fi\n",
        "\n",
        "# Step 2: Ensure the Cron service is running\n",
        "echo \"Ensuring the Cron service is running...\"\n",
        "sudo service cron start\n",
        "\n",
        "# Step 3: Basic Introduction to Crontab\n",
        "# Crontab (Cron table) is a file that contains the schedule of cron entries to be run.\n",
        "echo \"Opening the crontab file for the current user...\"\n",
        "crontab -l\n",
        "\n",
        "# Step 4: Adding Cron Jobs\n",
        "# Now, we will add a few simple cron jobs as examples.\n",
        "\n",
        "# Example 1: Run a script every minute\n",
        "# This cron job runs a script every minute. We will create a simple script for this purpose.\n",
        "echo \"Creating a sample script to be run every minute...\"\n",
        "echo \"#!/bin/bash\" > ~/cron_example_script.sh\n",
        "echo \"echo 'Cron job ran at \\$(date)'\" >> ~/cron_example_script.sh\n",
        "chmod +x ~/cron_example_script.sh\n",
        "(crontab -l 2>/dev/null; echo \"* * * * * ~/cron_example_script.sh\") | crontab -\n",
        "echo \"Added a cron job to run a script every minute.\"\n",
        "\n",
        "# Example 2: Schedule a job for a specific time\n",
        "# This cron job is scheduled to run at 10 AM every day.\n",
        "(crontab -l 2>/dev/null; echo \"0 10 * * * echo 'Good morning! Time is 10 AM' >> ~/cron_good_morning.txt\") | crontab -\n",
        "echo \"Added a cron job to run at 10 AM every day.\"\n",
        "\n",
        "# Example 3: Schedule a job to run on a specific day of the week\n",
        "# This cron job is scheduled to run at 8 PM every Friday.\n",
        "(crontab -l 2>/dev/null; echo \"0 20 * * 5 echo 'Happy Friday!' >> ~/cron_friday.txt\") | crontab -\n",
        "echo \"Added a cron job to run at 8 PM every Friday.\"\n",
        "\n",
        "# Example 4: Schedule a job to run every hour\n",
        "# This cron job runs at the beginning of every hour.\n",
        "(crontab -l 2>/dev/null; echo \"0 * * * * echo 'Hourly reminder' >> ~/cron_hourly.txt\") | crontab -\n",
        "echo \"Added a cron job to run at the beginning of every hour.\"\n",
        "\n",
        "# Example 5: Schedule a job to run on specific months\n",
        "# This cron job runs at noon on the first day of January and July.\n",
        "(crontab -l 2>/dev/null; echo \"0 12 1 1,7 * echo 'Happy New Year and Mid-Year!' >> ~/cron_biannual.txt\") | crontab -\n",
        "echo \"Added a cron job to run at noon on the first day of January and July.\"\n",
        "\n",
        "# Example 6: Schedule a job to run every 5 minutes\n",
        "(crontab -l 2>/dev/null; echo \"*/5 * * * * echo 'This runs every 5 minutes' >> ~/cron_every_5_minutes.txt\") | crontab -\n",
        "echo \"Added a cron job to run every 5 minutes.\"\n",
        "\n",
        "# Example 7: Schedule a job to run at 2:15 PM on weekdays\n",
        "(crontab -l 2>/dev/null; echo \"15 14 * * 1-5 echo '2:15 PM on Weekdays' >> ~/cron_weekdays.txt\") | crontab -\n",
        "echo \"Added a cron job to run at 2:15 PM on weekdays.\"\n",
        "\n",
        "# Example 8: Schedule a job to run on the first day of every month\n",
        "(crontab -l 2>/dev/null; echo \"0 0 1 * * echo 'First Day of the Month' >> ~/cron_first_day_month.txt\") | crontab -\n",
        "echo \"Added a cron job to run on the first day of every month.\"\n",
        "\n",
        "# Example 9: Schedule a job to run every 30 seconds\n",
        "# Cron does not support a\n"
      ],
      "metadata": {
        "colab": {
          "base_uri": "https://localhost:8080/"
        },
        "id": "j4Ucabb5gR2I",
        "outputId": "37eb4f4e-3542-40ec-d1c6-9574a929afd3"
      },
      "execution_count": 4,
      "outputs": [
        {
          "output_type": "stream",
          "name": "stdout",
          "text": [
            "Writing learning_cron_script.sh\n"
          ]
        }
      ]
    },
    {
      "cell_type": "code",
      "source": [
        "%%writefile learning_docker_script.sh\n",
        "#!/bin/bash\n",
        "# Lab Session: Introduction to Docker on Ubuntu\n",
        "# Author: Prof. Mehdi Pirahandeh, ISE Department\n",
        "# This script is a beginner's guide to install, run, and work with Docker on Ubuntu.\n",
        "\n",
        "# Step 1: Update the system\n",
        "# This command updates the list of packages and their versions on your system.\n",
        "sudo apt-get update\n",
        "\n",
        "# Step 2: Install prerequisite packages\n",
        "# These packages are necessary for Docker to run on Ubuntu.\n",
        "sudo apt-get install apt-transport-https ca-certificates curl software-properties-common\n",
        "\n",
        "# Step 3: Add Docker’s official GPG key\n",
        "# This key is required to ensure the integrity and authenticity of Docker packages.\n",
        "curl -fsSL https://download.docker.com/linux/ubuntu/gpg | sudo apt-key add -\n",
        "\n",
        "# Step 4: Add Docker repository to APT sources\n",
        "# This adds Docker's repository to the list of sources for software packages.\n",
        "sudo add-apt-repository \"deb [arch=amd64] https://download.docker.com/linux/ubuntu $(lsb_release -cs) stable\"\n",
        "\n",
        "# Step 5: Update the package database with Docker packages from the newly added repo\n",
        "sudo apt-get update\n",
        "\n",
        "# Step 6: Install Docker\n",
        "# This command installs Docker onto your system.\n",
        "sudo apt-get install docker-ce\n",
        "\n",
        "# Step 7: Verify Docker installation\n",
        "# This checks if Docker is installed correctly and is running.\n",
        "sudo docker --version\n",
        "echo \"Docker has been installed successfully!\"\n",
        "\n",
        "# Step 8: Run a test Docker container\n",
        "# Here we run a simple hello-world container to verify Docker is working correctly.\n",
        "echo \"Running a test Docker container...\"\n",
        "sudo docker run hello-world\n",
        "\n",
        "# Step 9: Basic Docker Commands\n",
        "# Below are some basic Docker commands for managing Docker containers and images.\n",
        "# List all running containers\n",
        "echo \"To list all running Docker containers, use: sudo docker ps\"\n",
        "# List all containers, including those not running\n",
        "echo \"To list all containers, use: sudo docker ps -a\"\n",
        "# List all Docker images on this system\n",
        "echo \"To list all Docker images, use: sudo docker images\"\n",
        "\n",
        "# Step 10: Conclusion\n",
        "# This marks the end of this basic Docker lab session.\n",
        "echo \"This concludes the basic Docker lab session. Explore more to learn Docker's full capabilities!\"\n"
      ],
      "metadata": {
        "colab": {
          "base_uri": "https://localhost:8080/"
        },
        "id": "DhshzkPdggIt",
        "outputId": "4aa66f7e-e170-4808-8708-7ef82e223384"
      },
      "execution_count": 5,
      "outputs": [
        {
          "output_type": "stream",
          "name": "stdout",
          "text": [
            "Writing learning_docker_script.sh\n"
          ]
        }
      ]
    }
  ]
}