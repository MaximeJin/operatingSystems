{
  "nbformat": 4,
  "nbformat_minor": 0,
  "metadata": {
    "colab": {
      "provenance": []
    },
    "kernelspec": {
      "name": "python3",
      "display_name": "Python 3"
    },
    "language_info": {
      "name": "python"
    }
  },
  "cells": [
    {
      "cell_type": "code",
      "execution_count": 1,
      "metadata": {
        "colab": {
          "base_uri": "https://localhost:8080/"
        },
        "id": "SdId4p0-Sp9i",
        "outputId": "f1d15c07-81b4-45e9-de97-d5b5f0e2f3dc"
      },
      "outputs": [
        {
          "output_type": "stream",
          "name": "stdout",
          "text": [
            "Writing lab_session.sh\n"
          ]
        }
      ],
      "source": [
        "%%writefile lab_session.sh\n",
        "\n",
        "#!/bin/bash\n",
        "\n",
        "# Lab Session: Analyzing and Storing Logs and Archiving Files\n",
        "\n",
        "# Part 1: Analyzing and Storing Logs\n",
        "\n",
        "# Step 1: View System Logs\n",
        "echo \"Step 1: Viewing System Logs\"\n",
        "cat /var/log/syslog\n",
        "echo\n",
        "\n",
        "# Step 2: Filter Logs for SSH Connections\n",
        "echo \"Step 2: Filtering Logs for SSH Connections\"\n",
        "cat /var/log/syslog | grep ssh\n",
        "echo\n",
        "\n",
        "# Step 3: Store Filtered Logs in a File\n",
        "echo \"Step 3: Storing Filtered Logs in ssh_logs.txt\"\n",
        "cat /var/log/syslog | grep ssh > ssh_logs.txt\n",
        "echo \"Filtered logs stored in ssh_logs.txt\"\n"
      ]
    },
    {
      "cell_type": "code",
      "source": [
        "!chmod +x lab_session.sh"
      ],
      "metadata": {
        "id": "9YlErGWBUeRa"
      },
      "execution_count": 2,
      "outputs": []
    },
    {
      "cell_type": "code",
      "source": [
        "!./lab_session.sh"
      ],
      "metadata": {
        "colab": {
          "base_uri": "https://localhost:8080/"
        },
        "id": "a37OXDRlUiOh",
        "outputId": "2b4872fe-c0a4-4abc-b349-a6c9318dc8d9"
      },
      "execution_count": 3,
      "outputs": [
        {
          "output_type": "stream",
          "name": "stdout",
          "text": [
            "Step 1: Viewing System Logs\n",
            "cat: /var/log/syslog: No such file or directory\n",
            "\n",
            "Step 2: Filtering Logs for SSH Connections\n",
            "cat: /var/log/syslog: No such file or directory\n",
            "\n",
            "Step 3: Storing Filtered Logs in ssh_logs.txt\n",
            "cat: /var/log/syslog: No such file or directory\n",
            "Filtered logs stored in ssh_logs.txt\n"
          ]
        }
      ]
    },
    {
      "cell_type": "code",
      "source": [
        "%%writefile lab_session.sh\n",
        "\n",
        "#!/bin/bash\n",
        "\n",
        "# Lab Session: Analyzing and Storing Logs and Archiving Files\n",
        "\n",
        "# Part 1: Analyzing and Storing Logs\n",
        "\n",
        "# Step 1: View System Logs\n",
        "echo \"Step 1: Viewing System Logs\"\n",
        "cat /var/log/syslog\n",
        "echo\n",
        "\n",
        "# Step 2: Filter Logs for SSH Connections\n",
        "echo \"Step 2: Filtering Logs for SSH Connections\"\n",
        "cat /var/log/syslog | grep ssh\n",
        "echo\n",
        "\n",
        "# Step 3: Store Filtered Logs in a File\n",
        "echo \"Step 3: Storing Filtered Logs in ssh_logs.txt\"\n",
        "cat /var/log/syslog | grep ssh > ssh_logs.txt\n",
        "echo \"Filtered logs stored in ssh_logs.txt\"\n",
        "\n",
        "# Step 4: Create Sample Files\n",
        "echo \"Step 4: Creating Sample Files\"\n",
        "touch file1.txt file2.txt file3.txt\n",
        "echo \"Sample files created: file1.txt, file2.txt, file3.txt\"\n",
        "echo\n",
        "\n",
        "# Step 5: Archive Files with tar\n",
        "echo \"Step 5: Archiving Files with tar\"\n",
        "tar -czvfi my_archive.tar.gz file1.txt file2.txt file3.txt\n",
        "echo \"Files archived in my_archive.tar.gz\"\n",
        "echo\n",
        "\n",
        "# Step 6: Copy the Archive to Home Directory\n",
        "echo \"Step 6: Copying the Archive to Home Directory\"\n",
        "cp my_archive.tar.gz ~/my_archive.tar.gz\n",
        "echo \"Archive copied to home directory\"\n",
        "echo\n",
        "\n",
        "# Step 7: Extract Files from the Archive\n",
        "echo \"Step 7: Extracting Files from the Archive\"\n",
        "tar -xzvf my_archive.tar.gz\n",
        "echo \"Files extracted from the archive\"\n",
        "\n",
        "# Conclusion\n",
        "echo \"Conclusion: You've learned how to analyze and store system logs and how to archive and copy files using the tar command in a shell script.\"\n"
      ],
      "metadata": {
        "colab": {
          "base_uri": "https://localhost:8080/"
        },
        "id": "ZKGbJAhrX0tI",
        "outputId": "bb38c0b1-59cd-4516-b395-dba874d49093"
      },
      "execution_count": 4,
      "outputs": [
        {
          "output_type": "stream",
          "name": "stdout",
          "text": [
            "Overwriting lab_session.sh\n"
          ]
        }
      ]
    }
  ]
}